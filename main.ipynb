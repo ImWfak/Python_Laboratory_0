{
 "cells": [
  {
   "cell_type": "code",
   "execution_count": 1,
   "outputs": [
    {
     "name": "stdout",
     "output_type": "stream",
     "text": [
      "Variant: 6\n"
     ]
    }
   ],
   "source": [
    "print('Variant:', ord('A') % 10 + 1)"
   ],
   "metadata": {
    "collapsed": false,
    "ExecuteTime": {
     "end_time": "2023-11-04T21:28:16.530564400Z",
     "start_time": "2023-11-04T21:28:16.523791300Z"
    }
   },
   "id": "ff677131124d1a7f"
  },
  {
   "cell_type": "code",
   "execution_count": 2,
   "outputs": [
    {
     "name": "stdout",
     "output_type": "stream",
     "text": [
      "Begin:  3\n",
      "End:  30\n",
      "Result:  [3, 4, 5, 7, 11, 13, 17, 19, 23, 29]\n"
     ]
    }
   ],
   "source": [
    "def sieve_of_eratosthenes():\n",
    "    prime_list = []\n",
    "    sieve = set(range(begin, end + 1))\n",
    "    while sieve:\n",
    "        prime = min(sieve)\n",
    "        sieve -= set(range(prime, end + 1, prime))\n",
    "        prime_list.append(prime)\n",
    "    return prime_list\n",
    "\n",
    "begin = int(input('Begin: '))\n",
    "end = int(input('End: '))\n",
    "if 0 < begin < end and end > 0:\n",
    "    print('Begin: ', begin)\n",
    "    print('End: ',  end)\n",
    "    print('Result: ', sieve_of_eratosthenes())\n",
    "else:\n",
    "    print('Wrong input')"
   ],
   "metadata": {
    "collapsed": false,
    "ExecuteTime": {
     "end_time": "2023-11-04T21:28:20.307809600Z",
     "start_time": "2023-11-04T21:28:16.528568200Z"
    }
   },
   "id": "initial_id"
  }
 ],
 "metadata": {
  "kernelspec": {
   "display_name": "Python 3",
   "language": "python",
   "name": "python3"
  },
  "language_info": {
   "codemirror_mode": {
    "name": "ipython",
    "version": 2
   },
   "file_extension": ".py",
   "mimetype": "text/x-python",
   "name": "python",
   "nbconvert_exporter": "python",
   "pygments_lexer": "ipython2",
   "version": "2.7.6"
  }
 },
 "nbformat": 4,
 "nbformat_minor": 5
}
