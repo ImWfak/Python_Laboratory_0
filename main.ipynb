{
 "cells": [
  {
   "cell_type": "code",
   "execution_count": 1,
   "outputs": [
    {
     "name": "stdout",
     "output_type": "stream",
     "text": [
      "Variant: 6\n"
     ]
    }
   ],
   "source": [
    "print('Variant:', ord('A') % 10 + 1)"
   ],
   "metadata": {
    "collapsed": false,
    "ExecuteTime": {
     "end_time": "2023-11-04T21:28:16.530564400Z",
     "start_time": "2023-11-04T21:28:16.523791300Z"
    }
   },
   "id": "ff677131124d1a7f"
  },
  {
   "cell_type": "markdown",
   "source": [
    "# Йорданія\n",
    "\n",
    "## Огляд\n",
    "\n",
    "Йорданія — країна на Близькому Сході, розташована в західній частині Азії. Давня історія, культурне багатство та неймовірна природа роблять її цікавим напрямком для подорожей.\n",
    "\n",
    "## Базові факти\n",
    "\n",
    "- **Площа:** 89,342 км²\n",
    "- **Населення:** Близько 10 мільйонів (станом на 2022 рік)\n",
    "\n",
    "## Державний устрій\n",
    "\n",
    "Йорданія — конституційна монархія, з монархом на чолі держави.\n",
    "\n",
    "## Видатні персоналії\n",
    "\n",
    "1. **Король Абдулла II:** Сучасний монарх, який грає ключову роль у розвитку країни.\n",
    "2. **Квін Ранія:** Королівська подруга, активістка та діячка гуманітарної справи.\n",
    "\n",
    "## Пам'ятки культури та природи\n",
    "\n",
    "### Культурні об'єкти\n",
    "\n",
    "- Амманський амфітеатр\n",
    "- Петра — дивовижне археологічне джерело\n",
    "- Язидська печера\n",
    "\n",
    "### Природні краси\n",
    "\n",
    "- Мертве море\n",
    "- Долина Ріссан\n",
    "\n",
    "## Флаг\n",
    "\n",
    "![Флаг Йорданії](https://upload.wikimedia.org/wikipedia/commons/thumb/c/c0/Flag_of_Jordan.svg/1280px-Flag_of_Jordan.svg.png)\n",
    "\n",
    "Опис флагу: Три горизонтальні смуги — чорвона, біла та чорна, з гербом по центру білої смуги."
   ],
   "metadata": {
    "collapsed": false
   },
   "id": "748ba25db93367eb"
  },
  {
   "cell_type": "code",
   "execution_count": 2,
   "outputs": [
    {
     "name": "stdout",
     "output_type": "stream",
     "text": [
      "Begin:  3\n",
      "End:  30\n",
      "Result:  [3, 4, 5, 7, 11, 13, 17, 19, 23, 29]\n"
     ]
    }
   ],
   "source": [
    "def sieve_of_eratosthenes():\n",
    "    prime_list = []\n",
    "    sieve = set(range(begin, end + 1))\n",
    "    while sieve:\n",
    "        prime = min(sieve)\n",
    "        sieve -= set(range(prime, end + 1, prime))\n",
    "        prime_list.append(prime)\n",
    "    return prime_list\n",
    "\n",
    "begin = int(input('Begin: '))\n",
    "end = int(input('End: '))\n",
    "if 0 < begin < end and end > 0:\n",
    "    print('Begin: ', begin)\n",
    "    print('End: ',  end)\n",
    "    print('Result: ', sieve_of_eratosthenes())\n",
    "else:\n",
    "    print('Wrong input')"
   ],
   "metadata": {
    "collapsed": false,
    "ExecuteTime": {
     "end_time": "2023-11-04T21:28:20.307809600Z",
     "start_time": "2023-11-04T21:28:16.528568200Z"
    }
   },
   "id": "initial_id"
  }
 ],
 "metadata": {
  "kernelspec": {
   "display_name": "Python 3",
   "language": "python",
   "name": "python3"
  },
  "language_info": {
   "codemirror_mode": {
    "name": "ipython",
    "version": 2
   },
   "file_extension": ".py",
   "mimetype": "text/x-python",
   "name": "python",
   "nbconvert_exporter": "python",
   "pygments_lexer": "ipython2",
   "version": "2.7.6"
  }
 },
 "nbformat": 4,
 "nbformat_minor": 5
}
